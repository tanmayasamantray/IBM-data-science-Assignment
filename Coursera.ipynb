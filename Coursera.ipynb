{
 "cells": [
  {
   "attachments": {},
   "cell_type": "markdown",
   "metadata": {},
   "source": [
    "# My Jupyter Notebook on IBM Watson Studio"
   ]
  },
  {
   "attachments": {},
   "cell_type": "markdown",
   "metadata": {},
   "source": [
    "My name is **Tanmaya Samantray** Currently I am pursuing B.Tech in Computer Scince and want to become a sofware developer\n",
    "\n",
    "I am interested in data science because I a want contribute towards affordable and quality housing sector in metro cities"
   ]
  },
  {
   "attachments": {},
   "cell_type": "markdown",
   "metadata": {},
   "source": [
    "### The below code will find the average of three numbers"
   ]
  },
  {
   "cell_type": "code",
   "execution_count": 2,
   "metadata": {},
   "outputs": [
    {
     "name": "stdout",
     "output_type": "stream",
     "text": [
      "Average of above numbers is:\n",
      "51.666666666666664\n"
     ]
    }
   ],
   "source": [
    "a=23\n",
    "b=45\n",
    "c=87\n",
    "print(\"Average of above numbers is:\")\n",
    "print((a+b+c)/3)"
   ]
  },
  {
   "attachments": {},
   "cell_type": "markdown",
   "metadata": {},
   "source": [
    "- List of Fruits\n",
    "    - Apple\n",
    "    - Banana\n",
    "    - Orange\n",
    "1. List of Color\n",
    "    1. Red\n",
    "    2. Yellow\n",
    "    3. Blue <br>\n",
    "<strike>Hello</strike><br>\n",
    "__[Link To my Portfolio Website](https://comfy-marshmallow-ed694b.netlify.app/)__"
   ]
  }
 ],
 "metadata": {
  "kernelspec": {
   "display_name": "Python 3.11.1 64-bit",
   "language": "python",
   "name": "python3"
  },
  "language_info": {
   "codemirror_mode": {
    "name": "ipython",
    "version": 3
   },
   "file_extension": ".py",
   "mimetype": "text/x-python",
   "name": "python",
   "nbconvert_exporter": "python",
   "pygments_lexer": "ipython3",
   "version": "3.11.1"
  },
  "orig_nbformat": 4,
  "vscode": {
   "interpreter": {
    "hash": "5238573367df39f7286bb46f9ff5f08f63a01a80960060ce41e3c79b190280fa"
   }
  }
 },
 "nbformat": 4,
 "nbformat_minor": 2
}
